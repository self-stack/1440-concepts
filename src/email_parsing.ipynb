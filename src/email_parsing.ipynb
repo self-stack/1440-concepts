{
 "cells": [
  {
   "cell_type": "markdown",
   "metadata": {},
   "source": [
    "# Read emails in bite size format. Text processed data.\n",
    "[python email library](https://docs.python.org/3/library/email.html)"
   ]
  },
  {
   "cell_type": "code",
   "execution_count": 1,
   "metadata": {
    "ExecuteTime": {
     "end_time": "2020-12-11T18:20:40.818587Z",
     "start_time": "2020-12-11T18:20:40.815169Z"
    }
   },
   "outputs": [],
   "source": [
    "from email import message_from_file"
   ]
  },
  {
   "cell_type": "code",
   "execution_count": 2,
   "metadata": {
    "ExecuteTime": {
     "end_time": "2020-12-11T18:22:11.807073Z",
     "start_time": "2020-12-11T18:22:11.804550Z"
    }
   },
   "outputs": [],
   "source": [
    "path = '../data/test1.eml'"
   ]
  },
  {
   "cell_type": "code",
   "execution_count": 3,
   "metadata": {
    "ExecuteTime": {
     "end_time": "2020-12-11T18:22:23.637856Z",
     "start_time": "2020-12-11T18:22:23.506265Z"
    }
   },
   "outputs": [
    {
     "name": "stdout",
     "output_type": "stream",
     "text": [
      "Bay Area Fires, Apple Soars, and US Teachers Stay Confident.eml\r\n",
      "Bay Area Fires, Wisconsin Protests, and the National Zoo's New Panda Cub.eml\r\n",
      "Beirut Explosion, Dinosaur Cancer, and the Year's Best Infographics.eml\r\n",
      "Chadwick Boseman, Neuralink, and a Miracle Kite Ride.eml\r\n",
      "Chicago Schools, 'Little Boy,' and Scientists Catch a Murder Hornet.eml\r\n",
      "Coaching Legend Dies, Amazon Drones, and Redefining Old Age.eml\r\n",
      "False Positive in Ohio, College Football, and the Physics of the Beirut Explosion.eml\r\n",
      "Flint Settlement, Steve Bannon Arrested, and the World's Best Restaurants.eml\r\n",
      "Hurricane Laura, Polio in Africa, and Tsar Bomba Footage.eml\r\n",
      "Iowa, Robert Trump, and a COVID-19 Saliva Test.eml\r\n",
      "Isaias, Garmin Ransom, and America's Most Beautiful College Campuses.eml\r\n",
      "Joe Kennedy, Honeybee Venom, and Science Says Don't Be a Jerk.eml\r\n",
      "Kamala Harris, 'Europe's Last Dictator,' and the Science of Derechos.eml\r\n",
      "Kenosha, Jerry Falwell Jr., and an Election Day Asteroid.eml\r\n",
      "Lake Fire, Yale Discrimination Probe, and America's Fastest Growing Companies.eml\r\n",
      "Laura Damage, Baby Titanosaur, and August's Most-Clicked Stories.eml\r\n",
      "Laura Makes Landfall, Christchurch Sentencing, and Cascadia's Looming Earthquake.eml\r\n",
      "New Zealand Lockdown, Galactic Surprise, and the Highest Paid Actors of 2020.eml\r\n",
      "Oil Spill, Russia Registers Vaccine, and the Rise of TikTok.eml\r\n",
      "Postal Changes Paused, Notre Dame, and 2020's Highest-Paid Female Athletes.eml\r\n",
      "Sturgis, Beirut Protests, and the Best Fiction of 2020.eml\r\n",
      "TikTok, Arrests in Twitter Hack, and What Makes a Good Relationship.eml\r\n",
      "test1.eml\r\n"
     ]
    }
   ],
   "source": [
    "!ls ../data/"
   ]
  },
  {
   "cell_type": "code",
   "execution_count": 8,
   "metadata": {},
   "outputs": [],
   "source": [
    "f = open(path)"
   ]
  },
  {
   "cell_type": "code",
   "execution_count": 9,
   "metadata": {},
   "outputs": [],
   "source": [
    "test_eml = message_from_file(f)"
   ]
  },
  {
   "cell_type": "code",
   "execution_count": 12,
   "metadata": {},
   "outputs": [],
   "source": [
    "eml_string = test_eml.as_string"
   ]
  },
  {
   "cell_type": "code",
   "execution_count": 13,
   "metadata": {},
   "outputs": [
    {
     "data": {
      "text/plain": [
       "<bound method Message.as_string of <email.message.Message object at 0x7f8b99965750>>"
      ]
     },
     "execution_count": 13,
     "metadata": {},
     "output_type": "execute_result"
    }
   ],
   "source": [
    "eml_string"
   ]
  },
  {
   "cell_type": "code",
   "execution_count": null,
   "metadata": {},
   "outputs": [],
   "source": []
  }
 ],
 "metadata": {
  "kernelspec": {
   "display_name": "Python 3",
   "language": "python",
   "name": "python3"
  },
  "language_info": {
   "codemirror_mode": {
    "name": "ipython",
    "version": 3
   },
   "file_extension": ".py",
   "mimetype": "text/x-python",
   "name": "python",
   "nbconvert_exporter": "python",
   "pygments_lexer": "ipython3",
   "version": "3.9.0"
  },
  "toc": {
   "base_numbering": 1,
   "nav_menu": {},
   "number_sections": true,
   "sideBar": true,
   "skip_h1_title": false,
   "title_cell": "Table of Contents",
   "title_sidebar": "Contents",
   "toc_cell": false,
   "toc_position": {},
   "toc_section_display": true,
   "toc_window_display": false
  }
 },
 "nbformat": 4,
 "nbformat_minor": 4
}
